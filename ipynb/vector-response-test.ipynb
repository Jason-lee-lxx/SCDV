{
 "cells": [
  {
   "cell_type": "code",
   "execution_count": null,
   "metadata": {
    "collapsed": true
   },
   "outputs": [],
   "source": [
    "from gensim.models import KeyedVectors\n",
    "from gensim.models.wrappers.fasttext import FastText"
   ]
  },
  {
   "cell_type": "code",
   "execution_count": null,
   "metadata": {
    "collapsed": true
   },
   "outputs": [],
   "source": [
    "## load model\n",
    "word2vec = KeyedVectors.load(\"../japanese-dataset/livedoor-news-corpus/model/vector-response-test/word2vec200.model\")\n",
    "word2vec_weighted = KeyedVectors.load(\"../japanese-dataset/livedoor-news-corpus/model/vector-response-test/word2vec_weighted.model\")\n",
    "fasttext = FastText.load_fasttext_format(\"../japanese-dataset/livedoor-news-corpus/model/vector-response-test/fasttext_model_200dim\")\n",
    "fasttext_weighted = KeyedVectors.load(\"../japanese-dataset/livedoor-news-corpus/model/vector-response-test/fasttext_weighted.model\")\n",
    "poincare_vec = KeyedVectors.load(\"../japanese-dataset/livedoor-news-corpus/model/vector-response-test/poincare_vec.model\")\n",
    "poincare_vec_weighted = KeyedVectors.load(\"../japanese-dataset/livedoor-news-corpus/model/vector-response-test/poincare_vec_weighted.model\")"
   ]
  },
  {
   "cell_type": "code",
   "execution_count": null,
   "metadata": {},
   "outputs": [],
   "source": [
    "len(word2vec.most_similar(\"独身\"))"
   ]
  },
  {
   "cell_type": "code",
   "execution_count": null,
   "metadata": {
    "collapsed": true
   },
   "outputs": [],
   "source": [
    "model_list = [word2vec,word2vec_weighted,fasttext,fasttext_weighted,poincare_vec,poincare_vec_weighted]\n",
    "column_list = [\"word2vec\",\"word2vec_weighted\",\"fasttext\",\"fasttext_weighted\",\"poincare_vec\",\"poincare_vec_weighted\"]"
   ]
  },
  {
   "cell_type": "code",
   "execution_count": null,
   "metadata": {
    "collapsed": true
   },
   "outputs": [],
   "source": [
    "import pandas as pd\n",
    "target_words = [\"女性\",\"男性\",\"彼氏\",\"ダイエット\",\"ホテル\",\"新しく\",\n",
    "                \"エンジニア\",\"アップル\",\"転職\",\"無料\",\"もうすぐ\",\n",
    "                \"終わり\",\"コンビニ\",\"確率\",\n",
    "                \"アンドロイド\",\"アプリ\",\"本田圭佑\",\"サッカー\",\"コピー\"]\n",
    "result = pd.DataFrame(target_words)\n",
    "result.columns = [\"target_words\"]"
   ]
  },
  {
   "cell_type": "code",
   "execution_count": null,
   "metadata": {},
   "outputs": [],
   "source": [
    "for name,model in zip(column_list,model_list):\n",
    "    res = []\n",
    "    for target in target_words:\n",
    "        similars = model.most_similar(target)\n",
    "        sim_res = []\n",
    "        for sim in similars:\n",
    "            sim_res.append(sim[0])\n",
    "        res.append(\" \".join(sim_res))\n",
    "    result[name] = res"
   ]
  },
  {
   "cell_type": "code",
   "execution_count": null,
   "metadata": {
    "scrolled": false
   },
   "outputs": [],
   "source": [
    "result"
   ]
  }
 ],
 "metadata": {
  "kernelspec": {
   "display_name": "Python 3",
   "language": "python",
   "name": "python3"
  },
  "language_info": {
   "codemirror_mode": {
    "name": "ipython",
    "version": 3
   },
   "file_extension": ".py",
   "mimetype": "text/x-python",
   "name": "python",
   "nbconvert_exporter": "python",
   "pygments_lexer": "ipython3",
   "version": "3.6.1"
  }
 },
 "nbformat": 4,
 "nbformat_minor": 2
}
